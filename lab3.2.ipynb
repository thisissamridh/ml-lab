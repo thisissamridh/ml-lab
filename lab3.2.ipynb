{
  "nbformat": 4,
  "nbformat_minor": 0,
  "metadata": {
    "colab": {
      "provenance": [],
      "authorship_tag": "ABX9TyPZBPNvGQAwKfRpRCD3I8M4",
      "include_colab_link": true
    },
    "kernelspec": {
      "name": "python3",
      "display_name": "Python 3"
    },
    "language_info": {
      "name": "python"
    }
  },
  "cells": [
    {
      "cell_type": "markdown",
      "metadata": {
        "id": "view-in-github",
        "colab_type": "text"
      },
      "source": [
        "<a href=\"https://colab.research.google.com/github/thisissamridh/ml-lab/blob/main/lab3.2.ipynb\" target=\"_parent\"><img src=\"https://colab.research.google.com/assets/colab-badge.svg\" alt=\"Open In Colab\"/></a>"
      ]
    },
    {
      "cell_type": "code",
      "execution_count": 1,
      "metadata": {
        "id": "vKhq2LRTA-tq"
      },
      "outputs": [],
      "source": [
        "import pandas as pd\n",
        "from sklearn.naive_bayes import GaussianNB\n",
        "from sklearn import metrics"
      ]
    },
    {
      "cell_type": "code",
      "source": [
        "# Task 2a: Read and explore Wine dataset\n",
        "wine_url = \"./wine.csv\"\n",
        "wine_data = pd.read_csv(wine_url)\n",
        "print(\"Task 2a - Dataset Description:\")\n",
        "print(wine_data.describe())  # Print statistical values\n",
        "print(\"\\nDataset Shape:\", wine_data.shape)  # Print shape of the data\n"
      ],
      "metadata": {
        "colab": {
          "base_uri": "https://localhost:8080/"
        },
        "id": "hQp1sl7jBDvG",
        "outputId": "b9a2b832-7927-4210-e0e6-0a2147c7721a"
      },
      "execution_count": 4,
      "outputs": [
        {
          "output_type": "stream",
          "name": "stdout",
          "text": [
            "Task 2a - Dataset Description:\n",
            "          Alcohol  Malic.acid         Ash         Acl          Mg     Phenols  \\\n",
            "count  178.000000  178.000000  178.000000  178.000000  178.000000  178.000000   \n",
            "mean    13.000618    2.336348    2.366517   19.494944   99.741573    2.295112   \n",
            "std      0.811827    1.117146    0.274344    3.339564   14.282484    0.625851   \n",
            "min     11.030000    0.740000    1.360000   10.600000   70.000000    0.980000   \n",
            "25%     12.362500    1.602500    2.210000   17.200000   88.000000    1.742500   \n",
            "50%     13.050000    1.865000    2.360000   19.500000   98.000000    2.355000   \n",
            "75%     13.677500    3.082500    2.557500   21.500000  107.000000    2.800000   \n",
            "max     14.830000    5.800000    3.230000   30.000000  162.000000    3.880000   \n",
            "\n",
            "       Flavanoids  Nonflavanoid.phenols     Proanth   Color.int         Hue  \\\n",
            "count  178.000000            178.000000  178.000000  178.000000  178.000000   \n",
            "mean     2.029270              0.361854    1.590899    5.058090    0.957449   \n",
            "std      0.998859              0.124453    0.572359    2.318286    0.228572   \n",
            "min      0.340000              0.130000    0.410000    1.280000    0.480000   \n",
            "25%      1.205000              0.270000    1.250000    3.220000    0.782500   \n",
            "50%      2.135000              0.340000    1.555000    4.690000    0.965000   \n",
            "75%      2.875000              0.437500    1.950000    6.200000    1.120000   \n",
            "max      5.080000              0.660000    3.580000   13.000000    1.710000   \n",
            "\n",
            "               OD      Proline        Wine  \n",
            "count  178.000000   178.000000  178.000000  \n",
            "mean     2.611685   746.893258    1.938202  \n",
            "std      0.709990   314.907474    0.775035  \n",
            "min      1.270000   278.000000    1.000000  \n",
            "25%      1.937500   500.500000    1.000000  \n",
            "50%      2.780000   673.500000    2.000000  \n",
            "75%      3.170000   985.000000    3.000000  \n",
            "max      4.000000  1680.000000    3.000000  \n",
            "\n",
            "Dataset Shape: (178, 14)\n"
          ]
        }
      ]
    },
    {
      "cell_type": "code",
      "source": [
        "# Task 2b: Separate features into X and Y\n",
        "X_wine = wine_data.drop('Wine', axis=1)\n",
        "Y_wine = wine_data['Wine']\n",
        "print(\"\\nTask 2b - Separated Features:\")\n",
        "print(\"X_wine Shape:\", X_wine.shape)\n",
        "print(\"Y_wine Shape:\", Y_wine.shape)\n"
      ],
      "metadata": {
        "colab": {
          "base_uri": "https://localhost:8080/"
        },
        "id": "f1W87o0WBNJ7",
        "outputId": "5fd88873-c137-420f-cda8-75c78b8b2d51"
      },
      "execution_count": 5,
      "outputs": [
        {
          "output_type": "stream",
          "name": "stdout",
          "text": [
            "\n",
            "Task 2b - Separated Features:\n",
            "X_wine Shape: (178, 13)\n",
            "Y_wine Shape: (178,)\n"
          ]
        }
      ]
    },
    {
      "cell_type": "code",
      "source": [
        "# Task 2c: Train the Gaussian Naïve Bayes model\n",
        "gnb = GaussianNB()\n",
        "gnb.fit(X_wine, Y_wine)\n",
        "print(\"\\nTask 2c - Gaussian Naïve Bayes Model Trained\")"
      ],
      "metadata": {
        "colab": {
          "base_uri": "https://localhost:8080/"
        },
        "id": "XFwyfIEGBXVd",
        "outputId": "d405c62e-0e32-4cc4-a632-7fa89687115f"
      },
      "execution_count": 6,
      "outputs": [
        {
          "output_type": "stream",
          "name": "stdout",
          "text": [
            "\n",
            "Task 2c - Gaussian Naïve Bayes Model Trained\n"
          ]
        }
      ]
    },
    {
      "cell_type": "code",
      "source": [
        "# Task 2d: Evaluate the performance\n",
        "Y_pred = gnb.predict(X_wine)\n",
        "accuracy = metrics.accuracy_score(Y_wine, Y_pred)\n",
        "precision = metrics.precision_score(Y_wine, Y_pred, average='weighted')\n",
        "recall = metrics.recall_score(Y_wine, Y_pred, average='weighted')\n",
        "f1_score = metrics.f1_score(Y_wine, Y_pred, average='weighted')\n",
        "auc = metrics.roc_auc_score(Y_wine, gnb.predict_proba(X_wine), multi_class='ovr')\n",
        "\n"
      ],
      "metadata": {
        "id": "Src5aWL0BZCf"
      },
      "execution_count": 8,
      "outputs": []
    },
    {
      "cell_type": "code",
      "source": [
        "print(\"\\nTask 2d - Model Evaluation:\")\n",
        "print(\"Accuracy:\", accuracy)\n",
        "print(\"Precision:\", precision)\n",
        "print(\"Recall:\", recall)\n",
        "print(\"F1 Score:\", f1_score)\n",
        "print(\"AUC:\", auc)\n",
        "\n",
        "# End of Task 2\n",
        "print(\"\\nTask 2 Complete.\")"
      ],
      "metadata": {
        "colab": {
          "base_uri": "https://localhost:8080/"
        },
        "id": "E_Fdj6GBBbB0",
        "outputId": "fb4256c6-3dd1-4ff2-ccb7-d2911f051935"
      },
      "execution_count": 9,
      "outputs": [
        {
          "output_type": "stream",
          "name": "stdout",
          "text": [
            "\n",
            "Task 2d - Model Evaluation:\n",
            "Accuracy: 0.9887640449438202\n",
            "Precision: 0.9888786975464343\n",
            "Recall: 0.9887640449438202\n",
            "F1 Score: 0.9887689951398976\n",
            "AUC: 0.999462677425892\n",
            "\n",
            "Task 2 Complete.\n"
          ]
        }
      ]
    }
  ]
}